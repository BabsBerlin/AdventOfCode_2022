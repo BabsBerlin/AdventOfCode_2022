{
 "cells": [
  {
   "cell_type": "markdown",
   "metadata": {},
   "source": [
    "## Advent of Code 2022 🎄\n",
    "### day 04 - Sunday"
   ]
  },
  {
   "cell_type": "code",
   "execution_count": null,
   "metadata": {},
   "outputs": [],
   "source": [
    "import csv\n",
    "raw = 'input.csv'\n",
    "rawTest = 'test_input.csv'"
   ]
  }
 ],
 "metadata": {
  "kernelspec": {
   "display_name": "Python 3.10.6 64-bit ('3.10.6')",
   "language": "python",
   "name": "python3"
  },
  "language_info": {
   "name": "python",
   "version": "3.10.6"
  },
  "orig_nbformat": 4,
  "vscode": {
   "interpreter": {
    "hash": "97f7502421e758db373c76956153f151da84a74f0fc1b5e3330cde4cdef09307"
   }
  }
 },
 "nbformat": 4,
 "nbformat_minor": 2
}
