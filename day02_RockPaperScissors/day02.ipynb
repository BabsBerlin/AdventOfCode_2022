{
 "cells": [
  {
   "cell_type": "markdown",
   "metadata": {},
   "source": [
    "## Advent of Code 2022 🎄\n",
    "### day 02 : Friday - Rock Paper Scissors"
   ]
  },
  {
   "cell_type": "code",
   "execution_count": 1,
   "metadata": {},
   "outputs": [],
   "source": [
    "import pandas as pd\n",
    "import csv\n",
    "\n",
    "raw = 'day02.csv'\n",
    "rawTest = 'day02_test.csv'"
   ]
  },
  {
   "cell_type": "markdown",
   "metadata": {},
   "source": [
    "load the data"
   ]
  },
  {
   "cell_type": "code",
   "execution_count": 2,
   "metadata": {},
   "outputs": [],
   "source": [
    "df = pd.read_csv(rawTest, header= None, sep=' ')"
   ]
  },
  {
   "cell_type": "code",
   "execution_count": 3,
   "metadata": {},
   "outputs": [
    {
     "name": "stdout",
     "output_type": "stream",
     "text": [
      "   0  1\n",
      "0  A  Y\n",
      "1  B  X\n",
      "2  C  Z\n",
      "***\n",
      "0    A\n",
      "1    B\n",
      "2    C\n",
      "Name: 0, dtype: object\n",
      "***\n",
      "A\n"
     ]
    }
   ],
   "source": [
    "# refresh dataframe access\n",
    "print(df)\n",
    "print('***')\n",
    "print(df[0])\n",
    "print('***')\n",
    "print(df[0][0])"
   ]
  },
  {
   "cell_type": "markdown",
   "metadata": {},
   "source": [
    "### part one\n",
    "rock paper scissors: assumption was first value opponents play, second value own play"
   ]
  },
  {
   "cell_type": "markdown",
   "metadata": {},
   "source": [
    "#### the rules\n",
    "score for a single round:\n",
    "- A/X - 1 for Rock\n",
    "- B/Y - 2 for Paper\n",
    "- C/Z - 3 for Scissors\n",
    "\n",
    "score for the outcome: \n",
    "- 0 if you lost \n",
    "- 3 if the round was a draw\n",
    "- 6 if you won\n",
    "\n",
    "outcome:\n",
    "- Rock A/X defeats Scissors C/Z\n",
    "- Scissors C/Z defeats Paper B/Y\n",
    "- Paper B/Y defeats Rock A/X\n",
    "- If both players choose the same shape, the round instead ends in a draw.\n",
    "\n",
    "A/X > C/Z > B/Y > A/X"
   ]
  },
  {
   "cell_type": "code",
   "execution_count": 4,
   "metadata": {},
   "outputs": [
    {
     "name": "stdout",
     "output_type": "stream",
     "text": [
      "score for the games is part one: 15\n"
     ]
    }
   ],
   "source": [
    "sum = 0\n",
    "shapeScore = {'X':1, 'Y':2, 'Z':3}\n",
    "outcome = {'AZ':0, 'AY':6, 'AX':3, 'BZ':6, 'BY':3, 'BX':0, 'CZ':3, 'CY':0, 'CX':6}\n",
    "\n",
    "for index, row in df.iterrows():\n",
    "    you = row[0]\n",
    "    me = row[1]\n",
    "    # add the value of the shape\n",
    "    sum = sum + shapeScore[me]\n",
    "    # determine the outcome\n",
    "    score = outcome[f'{you}{me}']\n",
    "    sum = sum + score\n",
    "\n",
    "print(f'score for the games is part one: {sum}')"
   ]
  },
  {
   "cell_type": "markdown",
   "metadata": {},
   "source": [
    "### part two\n",
    "turns out the second value was not my play, but the needed outcome\n",
    "\n",
    "X means you need to lose, Y means you need to end the round in a draw, and Z means you need to win. Good luck!\""
   ]
  },
  {
   "cell_type": "code",
   "execution_count": 5,
   "metadata": {},
   "outputs": [],
   "source": [
    "df_test = pd.read_csv(rawTest, header= None, sep=' ')\n",
    "df = pd.read_csv(raw, header= None, sep=' ')"
   ]
  },
  {
   "cell_type": "code",
   "execution_count": 6,
   "metadata": {},
   "outputs": [
    {
     "name": "stdout",
     "output_type": "stream",
     "text": [
      "score for the games is part two: 13193\n"
     ]
    }
   ],
   "source": [
    "# directly add the value of the shape you'll need to reach the outcome to the score in the dictionary\n",
    "new_outcome = {'AZ':8, 'AY':4, 'AX':3, 'BZ':9, 'BY':5, 'BX':1, 'CZ':7, 'CY':6, 'CX':2}\n",
    "\n",
    "sum = 0\n",
    "for index, row in df.iterrows():\n",
    "    you = row[0]\n",
    "    outcome = row[1]\n",
    "    # add up the scores\n",
    "    score = new_outcome[f'{you}{outcome}']\n",
    "    sum = sum + score\n",
    "\n",
    "print(f'score for the games is part two: {sum}')\n",
    "            "
   ]
  },
  {
   "cell_type": "code",
   "execution_count": null,
   "metadata": {},
   "outputs": [],
   "source": []
  }
 ],
 "metadata": {
  "kernelspec": {
   "display_name": "Python 3.9.13 ('base')",
   "language": "python",
   "name": "python3"
  },
  "language_info": {
   "codemirror_mode": {
    "name": "ipython",
    "version": 3
   },
   "file_extension": ".py",
   "mimetype": "text/x-python",
   "name": "python",
   "nbconvert_exporter": "python",
   "pygments_lexer": "ipython3",
   "version": "3.9.13"
  },
  "orig_nbformat": 4,
  "vscode": {
   "interpreter": {
    "hash": "b35f3b207a685c83e679513d0fdb55ee5e4b4529896db305bf4ff03c36f805c5"
   }
  }
 },
 "nbformat": 4,
 "nbformat_minor": 2
}
