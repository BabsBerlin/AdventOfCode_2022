{
 "cells": [
  {
   "cell_type": "markdown",
   "metadata": {},
   "source": [
    "## Advent of Code 2022 🎄\n",
    "### day 05 : monday - Supply Stacks"
   ]
  },
  {
   "cell_type": "code",
   "execution_count": 1,
   "metadata": {},
   "outputs": [],
   "source": [
    "import pandas as pd\n",
    "import numpy as np\n",
    "import csv\n",
    "raw = 'input.csv'\n",
    "rawTest = 'test_input.csv'"
   ]
  },
  {
   "cell_type": "markdown",
   "metadata": {},
   "source": [
    "#### part one\n",
    "description"
   ]
  },
  {
   "cell_type": "code",
   "execution_count": 47,
   "metadata": {},
   "outputs": [
    {
     "name": "stdout",
     "output_type": "stream",
     "text": [
      "stacks: [['Z', 'N'], ['M', 'C', 'D'], ['P']]\n",
      "['move 1 from 2 to 1']\n",
      "how many: 1\n",
      "start location: 2\n",
      "target location: 1\n",
      "stacks: [['Z', 'N', 'D'], ['M', 'C'], ['P']]\n",
      "*******\n",
      "stacks: [['Z', 'N', 'D'], ['M', 'C'], ['P']]\n",
      "['move 3 from 1 to 3']\n",
      "how many: 3\n",
      "start location: 1\n",
      "target location: 3\n",
      "stacks: [[], ['M', 'C'], ['P', 'D', 'N', 'Z']]\n",
      "*******\n",
      "stacks: [[], ['M', 'C'], ['P', 'D', 'N', 'Z']]\n",
      "['move 2 from 2 to 1']\n",
      "how many: 2\n",
      "start location: 2\n",
      "target location: 1\n",
      "stacks: [['C', 'M'], [], ['P', 'D', 'N', 'Z']]\n",
      "*******\n",
      "stacks: [['C', 'M'], [], ['P', 'D', 'N', 'Z']]\n",
      "['move 1 from 1 to 2']\n",
      "how many: 1\n",
      "start location: 1\n",
      "target location: 2\n",
      "stacks: [['C'], ['M'], ['P', 'D', 'N', 'Z']]\n",
      "*******\n",
      "CMZ\n"
     ]
    }
   ],
   "source": [
    "stacks = [[],['Z','N'], ['M','C','D'], ['P']]\n",
    "#stacks = [[],['B','Q','C'],['R','Q','W','Z'],['B','M','R','L','V'],['C','Z','H','V','T','W'],['D','Z','H','B','N','V','G'],['H','N','P','C','J','F','V','Q'],['D','G','T','R','W','Z','S'],['C','G','M','N','B','W','Z','P'],['N','J','B','M','W','Q','F','P']]\n",
    "\n",
    "with open(rawTest) as csvfile:\n",
    "    file = csv.reader(csvfile)\n",
    "    for instruction in file:\n",
    "        print(f'stacks: {stacks[1:]}')\n",
    "        # get instructions devided\n",
    "        print(instruction)\n",
    "        instruction = instruction[0][5:]\n",
    "        \n",
    "        how_many, rest = instruction.split(' from ')\n",
    "        print(f'how many: {how_many}')\n",
    "        \n",
    "        location, target = rest.split(' to ')\n",
    "        print(f'start location: {location}')\n",
    "        print(f'target location: {target}')\n",
    "        \n",
    "        for round in range(int(how_many)):\n",
    "            stacks[int(target)].append(stacks[int(location)].pop())\n",
    "        \n",
    "        print(f'stacks: {stacks[1:]}')\n",
    "        print('*******')\n",
    "        \n",
    "\n",
    "solution = ''\n",
    "for stack in stacks[1:]:\n",
    "    solution += stack.pop()\n",
    "    #print(stack.pop())\n",
    "\n",
    "print(solution)           \n",
    "\n",
    "        "
   ]
  },
  {
   "cell_type": "markdown",
   "metadata": {},
   "source": [
    "#### part two\n",
    "description"
   ]
  },
  {
   "cell_type": "markdown",
   "metadata": {},
   "source": []
  },
  {
   "cell_type": "code",
   "execution_count": 46,
   "metadata": {},
   "outputs": [
    {
     "name": "stdout",
     "output_type": "stream",
     "text": [
      "stacks: [['Z', 'N'], ['M', 'C', 'D'], ['P']]\n",
      "['move 1 from 2 to 1']\n",
      "how many: 1\n",
      "start location: 2\n",
      "target location: 1\n",
      "stacks: [['Z', 'N', 'D'], ['M', 'C'], ['P']]\n",
      "*******\n",
      "stacks: [['Z', 'N', 'D'], ['M', 'C'], ['P']]\n",
      "['move 3 from 1 to 3']\n",
      "how many: 3\n",
      "start location: 1\n",
      "target location: 3\n",
      "stacks: [[], ['M', 'C'], ['P', 'Z', 'N', 'D']]\n",
      "*******\n",
      "stacks: [[], ['M', 'C'], ['P', 'Z', 'N', 'D']]\n",
      "['move 2 from 2 to 1']\n",
      "how many: 2\n",
      "start location: 2\n",
      "target location: 1\n",
      "stacks: [['M', 'C'], [], ['P', 'Z', 'N', 'D']]\n",
      "*******\n",
      "stacks: [['M', 'C'], [], ['P', 'Z', 'N', 'D']]\n",
      "['move 1 from 1 to 2']\n",
      "how many: 1\n",
      "start location: 1\n",
      "target location: 2\n",
      "stacks: [['M'], ['C'], ['P', 'Z', 'N', 'D']]\n",
      "*******\n",
      "MCD\n"
     ]
    }
   ],
   "source": [
    "stacks = [[],['Z','N'], ['M','C','D'], ['P']]\n",
    "#stacks = [[],['B','Q','C'],['R','Q','W','Z'],['B','M','R','L','V'],['C','Z','H','V','T','W'],['D','Z','H','B','N','V','G'],['H','N','P','C','J','F','V','Q'],['D','G','T','R','W','Z','S'],['C','G','M','N','B','W','Z','P'],['N','J','B','M','W','Q','F','P']]\n",
    "\n",
    "with open(rawTest) as csvfile:\n",
    "    file = csv.reader(csvfile)\n",
    "    for instruction in file:\n",
    "        print(f'stacks: {stacks[1:]}')\n",
    "        # get instructions devided\n",
    "        print(instruction)\n",
    "        instruction = instruction[0][5:]\n",
    "        \n",
    "        how_many, rest = instruction.split(' from ')\n",
    "        print(f'how many: {how_many}')\n",
    "        \n",
    "        location, target = rest.split(' to ')\n",
    "        print(f'start location: {location}')\n",
    "        print(f'target location: {target}')\n",
    "        \n",
    "        reverse = []\n",
    "        for round in range(int(how_many)):\n",
    "            reverse.append(stacks[int(location)].pop())\n",
    "            #stacks[int(target)].append(stacks[int(location)].pop())\n",
    "            \n",
    "        for round in range(int(how_many)):\n",
    "            stacks[int(target)].append(reverse.pop())\n",
    "        \n",
    "        print(f'stacks: {stacks[1:]}')\n",
    "        print('*******')\n",
    "        \n",
    "\n",
    "solution = ''\n",
    "for stack in stacks[1:]:\n",
    "    solution += stack.pop()\n",
    "    #print(stack.pop())\n",
    "\n",
    "print(solution)           \n",
    "\n"
   ]
  },
  {
   "cell_type": "code",
   "execution_count": null,
   "metadata": {},
   "outputs": [],
   "source": []
  }
 ],
 "metadata": {
  "kernelspec": {
   "display_name": "Python 3.9.13 ('base')",
   "language": "python",
   "name": "python3"
  },
  "language_info": {
   "codemirror_mode": {
    "name": "ipython",
    "version": 3
   },
   "file_extension": ".py",
   "mimetype": "text/x-python",
   "name": "python",
   "nbconvert_exporter": "python",
   "pygments_lexer": "ipython3",
   "version": "3.9.13"
  },
  "orig_nbformat": 4,
  "vscode": {
   "interpreter": {
    "hash": "b35f3b207a685c83e679513d0fdb55ee5e4b4529896db305bf4ff03c36f805c5"
   }
  }
 },
 "nbformat": 4,
 "nbformat_minor": 2
}
