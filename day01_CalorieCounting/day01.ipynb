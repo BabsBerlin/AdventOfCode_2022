{
 "cells": [
  {
   "cell_type": "markdown",
   "metadata": {},
   "source": [
    "## Advent of Code 2022 🎄\n",
    "### day 01 : Thursday - Calorie Counting"
   ]
  },
  {
   "cell_type": "code",
   "execution_count": 1,
   "metadata": {},
   "outputs": [],
   "source": [
    "import csv\n",
    "raw = 'day01.csv'\n",
    "rawTest = 'day01_test.csv'"
   ]
  },
  {
   "cell_type": "markdown",
   "metadata": {},
   "source": [
    "### part one\n",
    "count calories for each elf and find the highest calorie count"
   ]
  },
  {
   "cell_type": "code",
   "execution_count": 2,
   "metadata": {},
   "outputs": [
    {
     "name": "stdout",
     "output_type": "stream",
     "text": [
      "calorie count: 1000\n",
      "calorie count: 3000\n",
      "calorie count: 6000\n",
      "new elf\n",
      "calorie count: 4000\n",
      "new elf\n",
      "calorie count: 5000\n",
      "calorie count: 11000\n",
      "new elf\n",
      "calorie count: 7000\n",
      "calorie count: 15000\n",
      "calorie count: 24000\n",
      "new elf\n",
      "calorie count: 10000\n",
      "new elf\n",
      "the highest calorie count is: 24000\n"
     ]
    }
   ],
   "source": [
    "max = 0\n",
    "num = 0\n",
    "with open(rawTest) as csvfile:\n",
    "    file = csv.reader(csvfile)\n",
    "    for row in file:\n",
    "        if row != []:\n",
    "            num = num + int(row[0])\n",
    "            print(f'calorie count: {num}')\n",
    "        else:\n",
    "            print('new elf')\n",
    "            if num > max:\n",
    "                max = num\n",
    "            num = 0\n",
    "print(f'the highest calorie count is: {max}')"
   ]
  },
  {
   "cell_type": "markdown",
   "metadata": {},
   "source": [
    "#### part two\n",
    "change of plans, now calulate the calorie count of the top three elves (i.e. the ones with the highest counts)"
   ]
  },
  {
   "cell_type": "code",
   "execution_count": 3,
   "metadata": {},
   "outputs": [
    {
     "name": "stdout",
     "output_type": "stream",
     "text": [
      "new elf\n",
      "[6000]\n",
      "new elf\n",
      "[6000, 4000]\n",
      "new elf\n",
      "[6000, 4000, 11000]\n",
      "new elf\n",
      "[6000, 4000, 11000, 24000]\n",
      "new elf\n",
      "[6000, 4000, 11000, 24000, 10000]\n",
      "calorie count of 1. elf: 24000\n",
      "calorie count of 2. elf: 11000\n",
      "calorie count of 3. elf: 10000\n",
      "the top three elves carry 45000 calories\n"
     ]
    }
   ],
   "source": [
    "max = 0\n",
    "calories = 0\n",
    "food_list = []\n",
    "\n",
    "with open(rawTest) as csvfile:\n",
    "    file = csv.reader(csvfile)\n",
    "    \n",
    "    for row in file:\n",
    "        if row != []:\n",
    "            calories = calories + int(row[0])\n",
    "        else:\n",
    "            print('new elf')\n",
    "            food_list.append(calories)\n",
    "            print(food_list)\n",
    "            calories = 0\n",
    "\n",
    "# sort list and add up the last three counts\n",
    "food_list.sort()\n",
    "max_food = food_list[-1] + food_list[-2] + food_list[-3]\n",
    "\n",
    "print(f'calorie count of 1. elf: {food_list[-1]}')\n",
    "print(f'calorie count of 2. elf: {food_list[-2]}')\n",
    "print(f'calorie count of 3. elf: {food_list[-3]}')\n",
    "\n",
    "print(f'the top three elves carry {max_food} calories')"
   ]
  },
  {
   "cell_type": "code",
   "execution_count": null,
   "metadata": {},
   "outputs": [],
   "source": []
  }
 ],
 "metadata": {
  "kernelspec": {
   "display_name": "Python 3.9.13 ('base')",
   "language": "python",
   "name": "python3"
  },
  "language_info": {
   "codemirror_mode": {
    "name": "ipython",
    "version": 3
   },
   "file_extension": ".py",
   "mimetype": "text/x-python",
   "name": "python",
   "nbconvert_exporter": "python",
   "pygments_lexer": "ipython3",
   "version": "3.9.13"
  },
  "orig_nbformat": 4,
  "vscode": {
   "interpreter": {
    "hash": "b35f3b207a685c83e679513d0fdb55ee5e4b4529896db305bf4ff03c36f805c5"
   }
  }
 },
 "nbformat": 4,
 "nbformat_minor": 2
}
