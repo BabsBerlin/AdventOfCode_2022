{
 "cells": [
  {
   "cell_type": "markdown",
   "metadata": {},
   "source": [
    "## Advent of Code 2022 🎄\n",
    "### day 06 : Tuesday - Tuning Trouble"
   ]
  },
  {
   "cell_type": "code",
   "execution_count": 1,
   "metadata": {},
   "outputs": [],
   "source": [
    "import pandas as pd\n",
    "import numpy as np\n",
    "import csv\n",
    "raw = 'input.txt'\n",
    "rawTest = 'test_input.txt'"
   ]
  },
  {
   "cell_type": "markdown",
   "metadata": {},
   "source": [
    "#### part one\n",
    "a marker occurs after 4 all different characters\n",
    "\n",
    "give the number of characters before the first marker"
   ]
  },
  {
   "cell_type": "code",
   "execution_count": 20,
   "metadata": {},
   "outputs": [
    {
     "name": "stdout",
     "output_type": "stream",
     "text": [
      "solution: 1640\n"
     ]
    }
   ],
   "source": [
    "with open(raw) as file:\n",
    "    buffer = file.readlines()\n",
    "    buffer = buffer[0]\n",
    "#print(buffer)\n",
    "\n",
    "for i in range(len(buffer)):\n",
    "    substr = list(buffer[i:(i+4)])\n",
    "    #print(substr)\n",
    "    #print(f\"len substr: {len(substr)}\")\n",
    "    #print(f\"len set of substr: {len(set(substr))}\")\n",
    "    if len(substr) == len(set(substr)):\n",
    "        print(f\"solution: {i + 4}\")\n",
    "        break\n",
    "    else:\n",
    "        next"
   ]
  },
  {
   "cell_type": "markdown",
   "metadata": {},
   "source": [
    "#### part two\n",
    "now look for messages: after 14 individual characters"
   ]
  },
  {
   "cell_type": "code",
   "execution_count": 14,
   "metadata": {},
   "outputs": [
    {
     "name": "stdout",
     "output_type": "stream",
     "text": [
      "solution: 3613\n"
     ]
    }
   ],
   "source": [
    "with open(raw) as file:\n",
    "    buffer = file.readlines()\n",
    "    buffer = buffer[0]\n",
    "\n",
    "for i in range(len(buffer)):\n",
    "    substr = list(buffer[i:(i+14)])\n",
    "    if len(substr) == len(set(substr)):\n",
    "        print(f\"solution: {i + 14}\")\n",
    "        break\n",
    "    else:\n",
    "        next"
   ]
  },
  {
   "cell_type": "code",
   "execution_count": null,
   "metadata": {},
   "outputs": [],
   "source": []
  }
 ],
 "metadata": {
  "kernelspec": {
   "display_name": "Python 3.9.13 ('base')",
   "language": "python",
   "name": "python3"
  },
  "language_info": {
   "codemirror_mode": {
    "name": "ipython",
    "version": 3
   },
   "file_extension": ".py",
   "mimetype": "text/x-python",
   "name": "python",
   "nbconvert_exporter": "python",
   "pygments_lexer": "ipython3",
   "version": "3.9.13"
  },
  "orig_nbformat": 4,
  "vscode": {
   "interpreter": {
    "hash": "b35f3b207a685c83e679513d0fdb55ee5e4b4529896db305bf4ff03c36f805c5"
   }
  }
 },
 "nbformat": 4,
 "nbformat_minor": 2
}
