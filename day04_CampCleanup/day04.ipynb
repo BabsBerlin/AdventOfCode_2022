{
 "cells": [
  {
   "cell_type": "markdown",
   "metadata": {},
   "source": [
    "## Advent of Code 2022 🎄\n",
    "### day 04 : Sunday - Camp Cleanup"
   ]
  },
  {
   "cell_type": "code",
   "execution_count": 1,
   "metadata": {},
   "outputs": [],
   "source": [
    "import pandas as pd\n",
    "import csv\n",
    "raw = 'input.csv'\n",
    "rawTest = 'test_input.csv'"
   ]
  },
  {
   "cell_type": "markdown",
   "metadata": {},
   "source": [
    "#### part one\n",
    "check for overlapping cleaning sections (list in list)"
   ]
  },
  {
   "cell_type": "code",
   "execution_count": 2,
   "metadata": {},
   "outputs": [
    {
     "name": "stdout",
     "output_type": "stream",
     "text": [
      "first elf: 2-4\n",
      "second elf: 6-8\n",
      "0\n",
      "*** new pair ***\n",
      "first elf: 2-3\n",
      "second elf: 4-5\n",
      "0\n",
      "*** new pair ***\n",
      "first elf: 5-7\n",
      "second elf: 7-9\n",
      "0\n",
      "*** new pair ***\n",
      "first elf: 2-8\n",
      "second elf: 3-7\n",
      "1\n",
      "*** new pair ***\n",
      "first elf: 6-6\n",
      "second elf: 4-6\n",
      "2\n",
      "*** new pair ***\n",
      "first elf: 2-6\n",
      "second elf: 4-8\n",
      "2\n",
      "*** new pair ***\n",
      "final count is 2\n"
     ]
    }
   ],
   "source": [
    "count = 0\n",
    "\n",
    "with open(rawTest) as csvfile:\n",
    "    file = csv.reader(csvfile)\n",
    "    for pair in file:\n",
    "        # convert input into lists\n",
    "        print(f'first elf: {pair[0]}')\n",
    "        print(f'second elf: {pair[1]}')\n",
    "        start, stop = pair[0].split('-')\n",
    "        first = [x for x in range(int(start), (int(stop) + 1))]\n",
    "        start, stop = pair[1].split('-')\n",
    "        second = [x for x in range(int(start), (int(stop) + 1))]\n",
    "        #print(first)\n",
    "        #print(second)\n",
    "        \n",
    "        # check if any item of ne list is contained in another list\n",
    "        if all(item in first for item in second):\n",
    "            count += 1\n",
    "        elif all(item in second for item in first):\n",
    "            count += 1\n",
    "        print(count)\n",
    "        print('*** new pair ***')\n",
    "print(f'final count is {count}')"
   ]
  },
  {
   "cell_type": "markdown",
   "metadata": {},
   "source": [
    "### part two\n",
    "now check for any overlap (list items in another list)"
   ]
  },
  {
   "cell_type": "code",
   "execution_count": 4,
   "metadata": {},
   "outputs": [
    {
     "name": "stdout",
     "output_type": "stream",
     "text": [
      "first elf: 2-4\n",
      "second elf: 6-8\n",
      "*** new pair ***\n",
      "first elf: 2-3\n",
      "second elf: 4-5\n",
      "*** new pair ***\n",
      "first elf: 5-7\n",
      "second elf: 7-9\n",
      "*** new pair ***\n",
      "first elf: 2-8\n",
      "second elf: 3-7\n",
      "*** new pair ***\n",
      "first elf: 6-6\n",
      "second elf: 4-6\n",
      "*** new pair ***\n",
      "first elf: 2-6\n",
      "second elf: 4-8\n",
      "*** new pair ***\n",
      "final count is 4\n"
     ]
    }
   ],
   "source": [
    "count = 0\n",
    "\n",
    "with open(rawTest) as csvfile:\n",
    "    file = csv.reader(csvfile)\n",
    "    for pair in file:\n",
    "        # convert input into lists\n",
    "        print(f'first elf: {pair[0]}')\n",
    "        print(f'second elf: {pair[1]}')\n",
    "        start, stop = pair[0].split('-')\n",
    "        first = [x for x in range(int(start), (int(stop) + 1))]\n",
    "        start, stop = pair[1].split('-')\n",
    "        second = [x for x in range(int(start), (int(stop) + 1))]\n",
    "        \n",
    "        # check if any item of ne list is contained in another list\n",
    "        if any(item in first for item in second):\n",
    "            count += 1\n",
    "        elif any(item in second for item in first):\n",
    "            count += 1\n",
    "            \n",
    "        print('*** new pair ***')\n",
    "        \n",
    "print(f'final count is {count}')"
   ]
  },
  {
   "cell_type": "code",
   "execution_count": null,
   "metadata": {},
   "outputs": [],
   "source": []
  }
 ],
 "metadata": {
  "kernelspec": {
   "display_name": "Python 3.9.13 ('base')",
   "language": "python",
   "name": "python3"
  },
  "language_info": {
   "codemirror_mode": {
    "name": "ipython",
    "version": 3
   },
   "file_extension": ".py",
   "mimetype": "text/x-python",
   "name": "python",
   "nbconvert_exporter": "python",
   "pygments_lexer": "ipython3",
   "version": "3.9.13"
  },
  "orig_nbformat": 4,
  "vscode": {
   "interpreter": {
    "hash": "b35f3b207a685c83e679513d0fdb55ee5e4b4529896db305bf4ff03c36f805c5"
   }
  }
 },
 "nbformat": 4,
 "nbformat_minor": 2
}
