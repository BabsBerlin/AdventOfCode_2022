{
 "cells": [
  {
   "cell_type": "markdown",
   "metadata": {},
   "source": [
    "## Advent of Code 2022 🎄\n",
    "### day 25 : Sunday - Full of Hot Air\n",
    "merry christmas"
   ]
  },
  {
   "cell_type": "code",
   "execution_count": 89,
   "metadata": {},
   "outputs": [],
   "source": [
    "import csv\n",
    "import math\n",
    "raw = 'input.csv'\n",
    "rawTest = 'test_input.csv'"
   ]
  },
  {
   "cell_type": "markdown",
   "metadata": {},
   "source": [
    "#### part one"
   ]
  },
  {
   "cell_type": "code",
   "execution_count": 90,
   "metadata": {},
   "outputs": [],
   "source": [
    "# convert from SNAFU to decimal\n",
    "def SNAFU_to_Decimal(snafu):\n",
    "    sum = 0\n",
    "    for index, digit in enumerate(snafu[::-1]):\n",
    "        innersum = 0\n",
    "        #print(f\"index: {index} digit: {digit}\")\n",
    "        snafu_convert = 5 ** index\n",
    "        if digit == \"=\":\n",
    "            innersum += snafu_convert * (-2)\n",
    "        elif digit == \"-\":\n",
    "            innersum += snafu_convert * (-1)\n",
    "        else:\n",
    "            innersum += snafu_convert * int(digit)\n",
    "        #print(f\"snafu_convert: {snafu_convert}\")\n",
    "        #print(f\"inner sum: {innersum}\")\n",
    "        sum += innersum\n",
    "    return sum\n",
    "\n",
    "\n",
    "# convert from decimal to SNAFU\n",
    "def Decimal_to_SNAFU(decimal):    \n",
    "    # first convert to quinary\n",
    "    quinary = \"\"\n",
    "    power = int(math.log(decimal, 5))\n",
    "    while decimal >= 0 and power != -1:\n",
    "        if decimal == 0:\n",
    "            quinary = quinary + str(decimal)\n",
    "            power = -1\n",
    "        else:\n",
    "            #print(f\"power: {power}\")\n",
    "            quinary_temp = int(decimal / 5**power)\n",
    "            #print(f\"temp: {quinary_temp}\")\n",
    "            decimal = decimal - quinary_temp * 5**power\n",
    "            #print(f\"new decimal: {decimal}\")\n",
    "            quinary = quinary + str(quinary_temp)\n",
    "            #print(\"***\")\n",
    "            power -= 1\n",
    "    print(f\"the number in quinary: {quinary}\")\n",
    "    \n",
    "    # now get rid of everything other that 012, i.e. convert to equivalents for = or -\n",
    "    snafu_clean = \"\" \n",
    "    carryover = 0   \n",
    "    for digit in quinary[::-1]:\n",
    "        digit = int(digit) + carryover\n",
    "        if digit < 3:\n",
    "            carryover = 0\n",
    "            snafu_clean = snafu_clean + str(digit) \n",
    "        elif digit == 3:\n",
    "            carryover = 1\n",
    "            snafu_clean = snafu_clean + \"=\"\n",
    "        elif digit == 4:\n",
    "            carryover = 1\n",
    "            snafu_clean = snafu_clean + \"-\"\n",
    "        elif digit == 5:\n",
    "            carryover = 1\n",
    "            snafu_clean = snafu_clean + \"0\"\n",
    "    if carryover == 1:\n",
    "        snafu_clean = snafu_clean + str(carryover)\n",
    "    snafu_final = snafu_clean[::-1]\n",
    "    print(f\"the number in SNAFU: {snafu_final}\")  \n",
    "    return snafu_final\n"
   ]
  },
  {
   "cell_type": "code",
   "execution_count": 91,
   "metadata": {},
   "outputs": [
    {
     "name": "stdout",
     "output_type": "stream",
     "text": [
      "test for number 2022\n",
      "the number in quinary: 31042\n",
      "the number in SNAFU: 1=11-2\n"
     ]
    }
   ],
   "source": [
    "# test the system\n",
    "test_number = 2022\n",
    "print(f\"test for number {test_number}\")\n",
    "test = Decimal_to_SNAFU(test_number)\n"
   ]
  },
  {
   "cell_type": "markdown",
   "metadata": {},
   "source": [
    "***"
   ]
  },
  {
   "cell_type": "code",
   "execution_count": 92,
   "metadata": {},
   "outputs": [
    {
     "name": "stdout",
     "output_type": "stream",
     "text": [
      "result in decimal: 33078355623611\n",
      "the number in quinary: 13313423433014423421\n",
      "the number in SNAFU: 2-=2-0=-0-=0200=--21\n",
      "result: 2-=2-0=-0-=0200=--21\n"
     ]
    }
   ],
   "source": [
    "with open(raw) as csvfile:\n",
    "    file = csv.reader(csvfile)\n",
    "    overall_sum = 0\n",
    "    for snafu in file:\n",
    "        sum = SNAFU_to_Decimal(snafu[0])\n",
    "        overall_sum += sum\n",
    "        #print(f\"*** new line ***\")\n",
    "    print(f\"result in decimal: {overall_sum}\")\n",
    "\n",
    "# now convert back to SNAFU to be able to enter in into Bob's console\n",
    "result = Decimal_to_SNAFU(overall_sum)\n",
    "print(f\"result: {result}\")\n",
    "    "
   ]
  },
  {
   "cell_type": "markdown",
   "metadata": {},
   "source": [
    "***\n",
    "#### part two\n",
    "as suspected, not for me yet, have to have all other stars before :-("
   ]
  },
  {
   "cell_type": "markdown",
   "metadata": {},
   "source": []
  }
 ],
 "metadata": {
  "kernelspec": {
   "display_name": "Python 3.9.13 ('base')",
   "language": "python",
   "name": "python3"
  },
  "language_info": {
   "codemirror_mode": {
    "name": "ipython",
    "version": 3
   },
   "file_extension": ".py",
   "mimetype": "text/x-python",
   "name": "python",
   "nbconvert_exporter": "python",
   "pygments_lexer": "ipython3",
   "version": "3.9.13"
  },
  "orig_nbformat": 4,
  "vscode": {
   "interpreter": {
    "hash": "b35f3b207a685c83e679513d0fdb55ee5e4b4529896db305bf4ff03c36f805c5"
   }
  }
 },
 "nbformat": 4,
 "nbformat_minor": 2
}
